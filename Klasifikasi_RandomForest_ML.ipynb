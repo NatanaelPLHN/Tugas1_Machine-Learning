{
 "cells": [
  {
   "cell_type": "markdown",
   "id": "8977b6e7",
   "metadata": {},
   "source": [
    "### Library"
   ]
  },
  {
   "cell_type": "code",
   "execution_count": 4,
   "id": "de85eef5",
   "metadata": {},
   "outputs": [
    {
     "name": "stderr",
     "output_type": "stream",
     "text": [
      "c:\\Users\\Natan\\AppData\\Local\\Programs\\Python\\Python312\\Lib\\site-packages\\tqdm\\auto.py:21: TqdmWarning: IProgress not found. Please update jupyter and ipywidgets. See https://ipywidgets.readthedocs.io/en/stable/user_install.html\n",
      "  from .autonotebook import tqdm as notebook_tqdm\n"
     ]
    }
   ],
   "source": [
    "import kagglehub\n",
    "import pandas as pd\n",
    "import numpy as np\n",
    "from sklearn.model_selection import train_test_split\n",
    "from sklearn.preprocessing import StandardScaler\n",
    "from sklearn.ensemble import RandomForestClassifier\n",
    "from sklearn.metrics import classification_report, confusion_matrix\n",
    "import matplotlib.pyplot as plt\n",
    "import seaborn as sns"
   ]
  },
  {
   "cell_type": "markdown",
   "id": "72f3b1e9",
   "metadata": {},
   "source": [
    "### Import dataset\n",
    "\n",
    "##### Dataset ini memuat data medis dari 299 pasien dengan kondisi gagal jantung. Fitur seperti usia, tekanan darah, anemia, diabetes, ejection fraction, dan kreatinin serum digunakan untuk memprediksi apakah pasien meninggal selama rawat inap (DEATH_EVENT: 1 = meninggal, 0 = tidak)."
   ]
  },
  {
   "cell_type": "code",
   "execution_count": 5,
   "id": "e6e5c3e4",
   "metadata": {},
   "outputs": [
    {
     "name": "stdout",
     "output_type": "stream",
     "text": [
      "Downloading from https://www.kaggle.com/api/v1/datasets/download/andrewmvd/heart-failure-clinical-data?dataset_version_number=1...\n"
     ]
    },
    {
     "name": "stderr",
     "output_type": "stream",
     "text": [
      "100%|██████████| 3.97k/3.97k [00:00<00:00, 4.04MB/s]"
     ]
    },
    {
     "name": "stdout",
     "output_type": "stream",
     "text": [
      "Extracting files...\n",
      "Path ke file dataset: C:\\Users\\Natan\\.cache\\kagglehub\\datasets\\andrewmvd\\heart-failure-clinical-data\\versions\\1\n"
     ]
    },
    {
     "name": "stderr",
     "output_type": "stream",
     "text": [
      "\n"
     ]
    }
   ],
   "source": [
    "path = kagglehub.dataset_download(\"andrewmvd/heart-failure-clinical-data\")\n",
    "print(\"Path ke file dataset:\", path)"
   ]
  },
  {
   "cell_type": "markdown",
   "id": "a676f18a",
   "metadata": {},
   "source": [
    "### Load dataset"
   ]
  },
  {
   "cell_type": "code",
   "execution_count": null,
   "id": "f4e5cc6f",
   "metadata": {},
   "outputs": [
    {
     "name": "stdout",
     "output_type": "stream",
     "text": [
      "Jumlah data: (299, 13)\n",
      "Contoh data:\n",
      "     age  anaemia  creatinine_phosphokinase  diabetes  ejection_fraction  \\\n",
      "0  75.0        0                       582         0                 20   \n",
      "1  55.0        0                      7861         0                 38   \n",
      "2  65.0        0                       146         0                 20   \n",
      "3  50.0        1                       111         0                 20   \n",
      "4  65.0        1                       160         1                 20   \n",
      "\n",
      "   high_blood_pressure  platelets  serum_creatinine  serum_sodium  sex  \\\n",
      "0                    1  265000.00               1.9           130    1   \n",
      "1                    0  263358.03               1.1           136    1   \n",
      "2                    0  162000.00               1.3           129    1   \n",
      "3                    0  210000.00               1.9           137    1   \n",
      "4                    0  327000.00               2.7           116    0   \n",
      "\n",
      "   smoking  time  DEATH_EVENT  \n",
      "0        0     4            1  \n",
      "1        0     6            1  \n",
      "2        1     7            1  \n",
      "3        0     7            1  \n",
      "4        0     8            1  \n",
      "Kolom:\n",
      " Index(['age', 'anaemia', 'creatinine_phosphokinase', 'diabetes',\n",
      "       'ejection_fraction', 'high_blood_pressure', 'platelets',\n",
      "       'serum_creatinine', 'serum_sodium', 'sex', 'smoking', 'time',\n",
      "       'DEATH_EVENT'],\n",
      "      dtype='object')\n"
     ]
    }
   ],
   "source": [
    "df = pd.read_csv(path + \"/heart_failure_clinical_records_dataset.csv\")\n",
    "print(\"Jumlah data:\", df.shape)\n",
    "print(\"Contoh data:\\n\", df.head())\n",
    "print(\"Kolom:\\n\", df.columns)"
   ]
  },
  {
   "cell_type": "markdown",
   "id": "7d2b1b7b",
   "metadata": {},
   "source": [
    "### Preprocessing\n",
    "\n",
    "##### Tidak ada data kosong, namun duplikasi dicek dan dihapus.\n",
    "##### Fitur dinormalisasi menggunakan `StandardScaler`.\n",
    "##### Data dibagi menjadi 80% data latih dan 20% data uji."
   ]
  },
  {
   "cell_type": "code",
   "execution_count": null,
   "id": "fcea71d4",
   "metadata": {},
   "outputs": [
    {
     "name": "stdout",
     "output_type": "stream",
     "text": [
      "Missing values:\n",
      " age                         0\n",
      "anaemia                     0\n",
      "creatinine_phosphokinase    0\n",
      "diabetes                    0\n",
      "ejection_fraction           0\n",
      "high_blood_pressure         0\n",
      "platelets                   0\n",
      "serum_creatinine            0\n",
      "serum_sodium                0\n",
      "sex                         0\n",
      "smoking                     0\n",
      "time                        0\n",
      "DEATH_EVENT                 0\n",
      "dtype: int64\n",
      "Distribusi label:\n",
      " DEATH_EVENT\n",
      "0    203\n",
      "1     96\n",
      "Name: count, dtype: int64\n"
     ]
    }
   ],
   "source": [
    "print(\"Missing values:\\n\", df.isnull().sum())\n",
    "\n",
    "df = df.drop_duplicates()\n",
    "X = df.drop(\"DEATH_EVENT\", axis=1)\n",
    "y = df[\"DEATH_EVENT\"]\n",
    "scaler = StandardScaler()\n",
    "X_scaled = scaler.fit_transform(X)\n",
    "\n",
    "X_train, X_test, y_train, y_test = train_test_split(X_scaled, y, test_size=0.2, random_state=42)\n",
    "\n",
    "# Cek distribusi label\n",
    "print(\"Distribusi label:\\n\", y.value_counts())\n"
   ]
  },
  {
   "cell_type": "markdown",
   "id": "0a5c26ef",
   "metadata": {},
   "source": [
    "### Implementasi Model Random Forest"
   ]
  },
  {
   "cell_type": "code",
   "execution_count": null,
   "id": "06ba398e",
   "metadata": {},
   "outputs": [
    {
     "name": "stdout",
     "output_type": "stream",
     "text": [
      "Prediksi (y_pred): [0 0 0 1 0]\n",
      "Label sebenarnya: [0 0 1 1 0]\n"
     ]
    }
   ],
   "source": [
    "model = RandomForestClassifier(n_estimators=100, random_state=42)\n",
    "model.fit(X_train, y_train)\n",
    "\n",
    "y_pred = model.predict(X_test)\n",
    "print(\"Prediksi (y_pred):\", y_pred[:5])\n",
    "print(\"Label sebenarnya:\", y_test.values[:5])"
   ]
  },
  {
   "cell_type": "markdown",
   "id": "76743f34",
   "metadata": {},
   "source": [
    "### Evaluasi Model"
   ]
  },
  {
   "cell_type": "code",
   "execution_count": null,
   "id": "7fab6b6d",
   "metadata": {},
   "outputs": [
    {
     "name": "stdout",
     "output_type": "stream",
     "text": [
      "Confusion Matrix:\n",
      "[[33  2]\n",
      " [13 12]]\n",
      "Classification Report:\n",
      "              precision    recall  f1-score   support\n",
      "\n",
      "           0       0.72      0.94      0.81        35\n",
      "           1       0.86      0.48      0.62        25\n",
      "\n",
      "    accuracy                           0.75        60\n",
      "   macro avg       0.79      0.71      0.72        60\n",
      "weighted avg       0.78      0.75      0.73        60\n",
      "\n"
     ]
    },
    {
     "data": {
      "image/png": "[encoded data removed]",
      "text/plain": [
       "<Figure size 640x480 with 2 Axes>"
      ]
     },
     "metadata": {},
     "output_type": "display_data"
    }
   ],
   "source": [
    "print(\"Confusion Matrix:\")\n",
    "print(confusion_matrix(y_test, y_pred))\n",
    "\n",
    "print(\"Classification Report:\")\n",
    "print(classification_report(y_test, y_pred))\n",
    "\n",
    "sns.heatmap(confusion_matrix(y_test, y_pred), annot=True, fmt='d', cmap='Blues')\n",
    "plt.title(\"Confusion Matrix\")\n",
    "plt.xlabel(\"Prediksi\")\n",
    "plt.ylabel(\"Aktual\")\n",
    "plt.show()\n"
   ]
  },
  {
   "cell_type": "markdown",
   "id": "334ddece",
   "metadata": {},
   "source": [
    "### Prediksi data baru"
   ]
  },
  {
   "cell_type": "code",
   "execution_count": 16,
   "id": "4aca944b",
   "metadata": {},
   "outputs": [
    {
     "name": "stdout",
     "output_type": "stream",
     "text": [
      "\n",
      "🔍 Pasien 1\n",
      "age                             88.00\n",
      "anaemia                          0.00\n",
      "creatinine_phosphokinase       415.00\n",
      "diabetes                         0.00\n",
      "ejection_fraction               50.00\n",
      "high_blood_pressure              1.00\n",
      "platelets                   397862.00\n",
      "serum_creatinine                 4.86\n",
      "serum_sodium                   123.00\n",
      "sex                              0.00\n",
      "smoking                          0.00\n",
      "time                           234.00\n",
      "Name: 0, dtype: float64\n",
      "Prediksi: Tidak meninggal\n",
      "\n",
      "🔍 Pasien 2\n",
      "age                             77.00\n",
      "anaemia                          0.00\n",
      "creatinine_phosphokinase       282.00\n",
      "diabetes                         0.00\n",
      "ejection_fraction               68.00\n",
      "high_blood_pressure              1.00\n",
      "platelets                   347640.00\n",
      "serum_creatinine                 2.36\n",
      "serum_sodium                   144.00\n",
      "sex                              0.00\n",
      "smoking                          0.00\n",
      "time                            57.00\n",
      "Name: 1, dtype: float64\n",
      "Prediksi: Meninggal\n",
      "\n",
      "🔍 Pasien 3\n",
      "age                             64.00\n",
      "anaemia                          0.00\n",
      "creatinine_phosphokinase       494.00\n",
      "diabetes                         1.00\n",
      "ejection_fraction               64.00\n",
      "high_blood_pressure              1.00\n",
      "platelets                   212811.00\n",
      "serum_creatinine                 0.94\n",
      "serum_sodium                   130.00\n",
      "sex                              0.00\n",
      "smoking                          0.00\n",
      "time                           265.00\n",
      "Name: 2, dtype: float64\n",
      "Prediksi: Tidak meninggal\n",
      "\n",
      "🔍 Pasien 4\n",
      "age                             48.00\n",
      "anaemia                          1.00\n",
      "creatinine_phosphokinase       784.00\n",
      "diabetes                         0.00\n",
      "ejection_fraction               16.00\n",
      "high_blood_pressure              1.00\n",
      "platelets                   299363.00\n",
      "serum_creatinine                 4.91\n",
      "serum_sodium                   147.00\n",
      "sex                              1.00\n",
      "smoking                          0.00\n",
      "time                             9.00\n",
      "Name: 3, dtype: float64\n",
      "Prediksi: Meninggal\n",
      "\n",
      "🔍 Pasien 5\n",
      "age                             62.00\n",
      "anaemia                          1.00\n",
      "creatinine_phosphokinase       299.00\n",
      "diabetes                         1.00\n",
      "ejection_fraction               58.00\n",
      "high_blood_pressure              1.00\n",
      "platelets                   257717.00\n",
      "serum_creatinine                 1.26\n",
      "serum_sodium                   129.00\n",
      "sex                              0.00\n",
      "smoking                          1.00\n",
      "time                           244.00\n",
      "Name: 4, dtype: float64\n",
      "Prediksi: Tidak meninggal\n"
     ]
    }
   ],
   "source": [
    "import numpy as np\n",
    "\n",
    "# Fungsi untuk membuat data pasien secara acak\n",
    "def generate_random_patients(n=5):\n",
    "    data = {\n",
    "        'age': np.random.randint(40, 90, size=n),\n",
    "        'anaemia': np.random.randint(0, 2, size=n),\n",
    "        'creatinine_phosphokinase': np.random.randint(20, 800, size=n),\n",
    "        'diabetes': np.random.randint(0, 2, size=n),\n",
    "        'ejection_fraction': np.random.randint(15, 70, size=n),\n",
    "        'high_blood_pressure': np.random.randint(0, 2, size=n),\n",
    "        'platelets': np.random.randint(100000, 400000, size=n),\n",
    "        'serum_creatinine': np.round(np.random.uniform(0.5, 5.0, size=n), 2),\n",
    "        'serum_sodium': np.random.randint(120, 150, size=n),\n",
    "        'sex': np.random.randint(0, 2, size=n),\n",
    "        'smoking': np.random.randint(0, 2, size=n),\n",
    "        'time': np.random.randint(0, 300, size=n),\n",
    "    }\n",
    "    return pd.DataFrame(data)\n",
    "\n",
    "# Generate data pasien acak\n",
    "random_patients = generate_random_patients(n=5)\n",
    "\n",
    "# Standarisasi data baru\n",
    "random_patients_scaled = scaler.transform(random_patients)\n",
    "\n",
    "# Prediksi menggunakan model\n",
    "predictions = model.predict(random_patients_scaled)\n",
    "\n",
    "# Tampilkan hasil\n",
    "for i, row in random_patients.iterrows():\n",
    "    print(f\"\\n🔍 Pasien {i+1}\")\n",
    "    print(row)\n",
    "    print(\"Prediksi:\", \"Meninggal\" if predictions[i] == 1 else \"Tidak meninggal\")\n"
   ]
  }
 ],
 "metadata": {
  "kernelspec": {
   "display_name": "Python 3",
   "language": "python",
   "name": "python3"
  },
  "language_info": {
   "codemirror_mode": {
    "name": "ipython",
    "version": 3
   },
   "file_extension": ".py",
   "mimetype": "text/x-python",
   "name": "python",
   "nbconvert_exporter": "python",
   "pygments_lexer": "ipython3",
   "version": "3.12.5"
  }
 },
 "nbformat": 4,
 "nbformat_minor": 5
}
